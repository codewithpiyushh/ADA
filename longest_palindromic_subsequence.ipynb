{
  "nbformat": 4,
  "nbformat_minor": 0,
  "metadata": {
    "colab": {
      "provenance": []
    },
    "kernelspec": {
      "name": "python3",
      "display_name": "Python 3"
    },
    "language_info": {
      "name": "python"
    }
  },
  "cells": [
    {
      "cell_type": "code",
      "execution_count": 4,
      "metadata": {
        "colab": {
          "base_uri": "https://localhost:8080/"
        },
        "id": "0MreRNY5VHXw",
        "outputId": "aac910bf-55c3-4a26-f83c-6983c9804b7e"
      },
      "outputs": [
        {
          "output_type": "stream",
          "name": "stdout",
          "text": [
            "Longest Palindromic Subsequence: 9\n"
          ]
        }
      ],
      "source": [
        "def longest_palindromic_subsequence(string):\n",
        "    n = len(string)\n",
        "    # Create a 2D table to store the lengths of palindromic subsequences\n",
        "    dp = [[0] * n for _ in range(n)]\n",
        "\n",
        "    # All characters in the string are palindromes of length 1\n",
        "    for i in range(n):\n",
        "        dp[i][i] = 1\n",
        "\n",
        "    # Compute the lengths of palindromic subsequences\n",
        "    for length in range(2, n + 1):\n",
        "        for i in range(n - length + 1):\n",
        "            j = i + length - 1\n",
        "            if string[i] == string[j]:\n",
        "                dp[i][j] = dp[i + 1][j - 1] + 2\n",
        "            else:\n",
        "                dp[i][j] = max(dp[i + 1][j], dp[i][j - 1])\n",
        "\n",
        "    # Return the length of the longest palindromic subsequence\n",
        "    return dp[0][n - 1]\n",
        "sequence = [3, 1, 4, 1, 5, 9, 2, 6, 5, 3, 5, 8, 9, 7, 9, 3, 2, 3, 8, 4, 6, 2, 7]\n",
        "lis = longest_palindromic_subsequence(sequence)\n",
        "print(\"Longest Palindromic Subsequence:\", lis)\n",
        "# Longest Palindromic Subsequence: 9"
      ]
    }
  ]
}