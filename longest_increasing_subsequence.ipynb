{
  "nbformat": 4,
  "nbformat_minor": 0,
  "metadata": {
    "colab": {
      "provenance": []
    },
    "kernelspec": {
      "name": "python3",
      "display_name": "Python 3"
    },
    "language_info": {
      "name": "python"
    }
  },
  "cells": [
    {
      "cell_type": "code",
      "execution_count": 1,
      "metadata": {
        "colab": {
          "base_uri": "https://localhost:8080/"
        },
        "id": "0MreRNY5VHXw",
        "outputId": "5d66ca17-3ade-467d-e9eb-221d91a92794"
      },
      "outputs": [
        {
          "output_type": "stream",
          "name": "stdout",
          "text": [
            "Longest Increasing Subsequence: 8\n"
          ]
        }
      ],
      "source": [
        "import numpy as np\n",
        "def longest_increasing_subsequence(arr):\n",
        "    n = len(arr)\n",
        "    # Create a list to store the lengths of the increasing subsequences\n",
        "    lis_lengths = [1] * n\n",
        "\n",
        "    # Compute the LIS lengths\n",
        "    for i in range(1, n):\n",
        "        for j in range(i):\n",
        "            if arr[i] > arr[j]:\n",
        "                lis_lengths[i] = max(lis_lengths[i], lis_lengths[j] + 1)\n",
        "\n",
        "    # Find the maximum LIS length\n",
        "    max_length = max(lis_lengths)\n",
        "    return max_length\n",
        "sequence = [3, -1, 3, 5, 6, 3, 1, 9, 10, 13, 465]\n",
        "lis = longest_increasing_subsequence(sequence)\n",
        "print(\"Longest Increasing Subsequence:\", lis)\n",
        "# Output: Longest Increasing Subsequence: 8"
      ]
    }
  ]
}