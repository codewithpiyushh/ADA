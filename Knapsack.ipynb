{
  "nbformat": 4,
  "nbformat_minor": 0,
  "metadata": {
    "colab": {
      "provenance": []
    },
    "kernelspec": {
      "name": "python3",
      "display_name": "Python 3"
    },
    "language_info": {
      "name": "python"
    }
  },
  "cells": [
    {
      "cell_type": "code",
      "execution_count": 3,
      "metadata": {
        "colab": {
          "base_uri": "https://localhost:8080/"
        },
        "id": "wDz-joYee2zN",
        "outputId": "1d1c6325-d063-4625-e547-98509895b3d9"
      },
      "outputs": [
        {
          "output_type": "stream",
          "name": "stdout",
          "text": [
            "Maximum value: 65\n"
          ]
        }
      ],
      "source": [
        "def solve_knapsack_problem(num_items, capacity, weights, values):\n",
        "    # Initialize a 2D array dp with all zeros\n",
        "    dp = [[0 for _ in range(capacity + 1)] for _ in range(num_items + 1)]\n",
        "    for i in range(1, num_items + 1):\n",
        "        for j in range(0, capacity + 1):\n",
        "            if weights[i - 1] <= j:\n",
        "                dp[i][j] = max(dp[i - 1][j], dp[i - 1][j - weights[i - 1]] + values[i - 1])\n",
        "            else:\n",
        "                dp[i][j] = dp[i - 1][j]\n",
        "    print(\"Maximum value:\", dp[num_items][capacity])\n",
        "num_items = 3\n",
        "capacity = 6\n",
        "weights = [1, 2, 3]\n",
        "values = [10, 15, 40]\n",
        "solve_knapsack_problem(num_items, capacity, weights, values)\n",
        "\n"
      ]
    }
  ]
}