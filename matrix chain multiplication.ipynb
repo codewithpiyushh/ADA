{
 "cells": [
  {
   "cell_type": "code",
   "execution_count": 1,
   "id": "8a261903",
   "metadata": {},
   "outputs": [
    {
     "name": "stdout",
     "output_type": "stream",
     "text": [
      "Minimum number of scalar multiplications: 30000\n",
      "Optimal parenthesization: (((M0M1)M2)M3)"
     ]
    }
   ],
   "source": [
    "def matrix_chain_order(p):\n",
    "    n = len(p) - 1\n",
    "    m = [[0] * n for _ in range(n)]  \n",
    "    s = [[0] * n for _ in range(n)]\n",
    "    \n",
    "    for length in range(2, n + 1):\n",
    "        for i in range(n - length + 1):\n",
    "            j = i + length - 1\n",
    "            m[i][j] = float('inf')\n",
    "            for k in range(i, j):\n",
    "                q = m[i][k] + m[k + 1][j] + p[i] * p[k + 1] * p[j + 1]\n",
    "                if q < m[i][j]:\n",
    "                    m[i][j] = q\n",
    "                    s[i][j] = k\n",
    "    \n",
    "    return m, s\n",
    "\n",
    "def print_optimal_parens(s, i, j):\n",
    "    if i == j:\n",
    "        print(f\"M{i}\", end=\"\")\n",
    "    else:\n",
    "        print(\"(\", end=\"\")\n",
    "        print_optimal_parens(s, i, s[i][j])\n",
    "        print_optimal_parens(s, s[i][j] + 1, j)\n",
    "        print(\")\", end=\"\")\n",
    "\n",
    "\n",
    "p = [10, 20, 30, 40, 30]  \n",
    "m, s = matrix_chain_order(p)\n",
    "print(\"Minimum number of scalar multiplications:\", m[0][len(p) - 2])\n",
    "print(\"Optimal parenthesization:\", end=\" \")\n",
    "print_optimal_parens(s, 0, len(p) - 2)\n"
   ]
  }
 ],
 "metadata": {
  "kernelspec": {
   "display_name": "Python 3 (ipykernel)",
   "language": "python",
   "name": "python3"
  },
  "language_info": {
   "codemirror_mode": {
    "name": "ipython",
    "version": 3
   },
   "file_extension": ".py",
   "mimetype": "text/x-python",
   "name": "python",
   "nbconvert_exporter": "python",
   "pygments_lexer": "ipython3",
   "version": "3.11.5"
  }
 },
 "nbformat": 4,
 "nbformat_minor": 5
}
