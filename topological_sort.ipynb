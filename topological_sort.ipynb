{
  "nbformat": 4,
  "nbformat_minor": 0,
  "metadata": {
    "colab": {
      "provenance": []
    },
    "kernelspec": {
      "name": "python3",
      "display_name": "Python 3"
    },
    "language_info": {
      "name": "python"
    }
  },
  "cells": [
    {
      "cell_type": "code",
      "execution_count": 4,
      "metadata": {
        "colab": {
          "base_uri": "https://localhost:8080/"
        },
        "id": "wDz-joYee2zN",
        "outputId": "440d0867-b2c4-4e36-a817-f7c7ad851dd7"
      },
      "outputs": [
        {
          "output_type": "stream",
          "name": "stdout",
          "text": [
            "Topological sorting order:\n",
            "A C E B D F "
          ]
        }
      ],
      "source": [
        "from collections import defaultdict\n",
        "def topological_sort(graph):\n",
        "    visited = set()\n",
        "    stack = []\n",
        "    def dfs(node):\n",
        "        visited.add(node)\n",
        "        for neighbor in graph[node]:\n",
        "            if neighbor not in visited:\n",
        "                dfs(neighbor)\n",
        "        stack.append(node)\n",
        "    for node in graph:\n",
        "        if node not in visited:\n",
        "            dfs(node)\n",
        "    return stack[::-1]\n",
        "graph = {\n",
        "    'A': ['B', 'C'],\n",
        "    'B': ['D'],\n",
        "    'C': ['D', 'E'],\n",
        "    'D': ['F'],\n",
        "    'E': ['F'],\n",
        "    'F': []\n",
        "}\n",
        "print(\"Topological sorting order:\")\n",
        "result = topological_sort(graph)\n",
        "for node in result:\n",
        "    print(node, end=\" \")\n"
      ]
    }
  ]
}