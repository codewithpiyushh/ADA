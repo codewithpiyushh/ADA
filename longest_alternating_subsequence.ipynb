{
  "nbformat": 4,
  "nbformat_minor": 0,
  "metadata": {
    "colab": {
      "provenance": []
    },
    "kernelspec": {
      "name": "python3",
      "display_name": "Python 3"
    },
    "language_info": {
      "name": "python"
    }
  },
  "cells": [
    {
      "cell_type": "code",
      "execution_count": 3,
      "metadata": {
        "colab": {
          "base_uri": "https://localhost:8080/"
        },
        "id": "0MreRNY5VHXw",
        "outputId": "cc38d369-4ea1-4003-ee92-6969b6c17323"
      },
      "outputs": [
        {
          "output_type": "stream",
          "name": "stdout",
          "text": [
            "Longest Alternating Subsequence: 17\n"
          ]
        }
      ],
      "source": [
        "def longest_alternating_subsequence(arr):\n",
        "    n = len(arr)\n",
        "    # Create two lists to store the lengths of the longest alternating subsequences\n",
        "    inc_lengths = [1] * n  # Length of the longest increasing alternating subsequence\n",
        "    dec_lengths = [1] * n  # Length of the longest decreasing alternating subsequence\n",
        "\n",
        "    # Compute the lengths of the longest alternating subsequences\n",
        "    for i in range(1, n):\n",
        "        for j in range(i):\n",
        "            if arr[i] > arr[j]:\n",
        "                inc_lengths[i] = max(inc_lengths[i], dec_lengths[j] + 1)\n",
        "            elif arr[i] < arr[j]:\n",
        "                dec_lengths[i] = max(dec_lengths[i], inc_lengths[j] + 1)\n",
        "    # Find the maximum length of the alternating subsequence\n",
        "    max_length = max(max(inc_lengths), max(dec_lengths))\n",
        "    return max_length\n",
        "sequence = [3, 1, 4, 1, 5, 9, 2, 6, 5, 3, 5, 8, 9, 7, 9, 3, 2, 3, 8, 4, 6, 2, 7]\n",
        "lis = longest_alternating_subsequence(sequence)\n",
        "print(\"Longest Alternating Subsequence:\", lis)\n",
        "# Longest Alternating Subsequence: 17"
      ]
    }
  ]
}