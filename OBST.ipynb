{
  "nbformat": 4,
  "nbformat_minor": 0,
  "metadata": {
    "colab": {
      "provenance": []
    },
    "kernelspec": {
      "name": "python3",
      "display_name": "Python 3"
    },
    "language_info": {
      "name": "python"
    }
  },
  "cells": [
    {
      "cell_type": "code",
      "execution_count": 2,
      "metadata": {
        "colab": {
          "base_uri": "https://localhost:8080/"
        },
        "id": "wDz-joYee2zN",
        "outputId": "3f204361-dcf1-49f2-d754-d25e8f23a13e"
      },
      "outputs": [
        {
          "output_type": "stream",
          "name": "stdout",
          "text": [
            "Optimal Cost: 0\n",
            "Root matrix:\n",
            "[0, 0, 0, 0, 0]\n",
            "[0, 1, 2, 3, 3]\n",
            "[0, 0, 2, 3, 3]\n",
            "[0, 0, 0, 3, 4]\n",
            "[0, 0, 0, 0, 4]\n",
            "Optimal binary search tree:\n",
            "Root: 3\n",
            "Left child of 3: 2\n",
            "Left child of 2: 1\n",
            "Right child of 3: 4\n"
          ]
        }
      ],
      "source": [
        "def optimal_bst(p, q):\n",
        "    n = len(p) - 1\n",
        "    e = [[0] * (n + 2) for _ in range(n + 2)]\n",
        "    w = [[0] * (n + 2) for _ in range(n + 2)]\n",
        "    root = [[0] * (n + 1) for _ in range(n + 1)]\n",
        "    for i in range(1, n + 2):\n",
        "        e[i][i - 1] = q[i - 1]\n",
        "        w[i][i - 1] = q[i - 1]\n",
        "    for l in range(1, n + 1):\n",
        "        for i in range(1, n - l + 2):\n",
        "            j = i + l - 1\n",
        "            e[i][j] = float('inf')\n",
        "            w[i][j] = w[i][j - 1] + p[j] + q[j]\n",
        "            for r in range(i, j + 1):\n",
        "                t = e[i][r - 1] + e[r + 1][j] + w[i][j]\n",
        "                if t < e[i][j]:\n",
        "                    e[i][j] = t\n",
        "                    root[i][j] = r\n",
        "    return e, root\n",
        "p = [0, 10, 20, 30, 40]\n",
        "q = [0, 5, 10, 15, 20, 25]\n",
        "e, root = optimal_bst(p, q)\n",
        "\n",
        "print(\"Optimal Cost:\", e[1][-1])\n",
        "print(\"Root matrix:\")\n",
        "for row in root:\n",
        "    print(row)\n",
        "def print_optimal_tree(root, i, j, parent, is_left):\n",
        "    if i > j:\n",
        "        return\n",
        "    root_index = root[i][j]\n",
        "    if parent is None:\n",
        "        print(f\"Root: {root_index}\")\n",
        "    else:\n",
        "        if is_left:\n",
        "            print(f\"Left child of {parent}: {root_index}\")\n",
        "        else:\n",
        "            print(f\"Right child of {parent}: {root_index}\")\n",
        "\n",
        "    print_optimal_tree(root, i, root_index - 1, root_index, True)\n",
        "    print_optimal_tree(root, root_index + 1, j, root_index, False)\n",
        "n = len(p) - 1\n",
        "print(\"Optimal binary search tree:\")\n",
        "print_optimal_tree(root, 1, n, None, False)\n"
      ]
    }
  ]
}