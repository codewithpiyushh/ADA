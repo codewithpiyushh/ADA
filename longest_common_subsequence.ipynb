{
  "nbformat": 4,
  "nbformat_minor": 0,
  "metadata": {
    "colab": {
      "provenance": []
    },
    "kernelspec": {
      "name": "python3",
      "display_name": "Python 3"
    },
    "language_info": {
      "name": "python"
    }
  },
  "cells": [
    {
      "cell_type": "code",
      "execution_count": 1,
      "metadata": {
        "colab": {
          "base_uri": "https://localhost:8080/"
        },
        "id": "UIbwbjLkWWyS",
        "outputId": "cc0874a8-eafc-4ffd-b5d1-51a6b936944f"
      },
      "outputs": [
        {
          "output_type": "stream",
          "name": "stdout",
          "text": [
            "Length of LCS is 4\n"
          ]
        }
      ],
      "source": [
        "def lcs(X, Y, m, n):\n",
        "    if m == 0 or n == 0:\n",
        "        return 0\n",
        "    elif X[m-1] == Y[n-1]:\n",
        "        return 1 + lcs(X, Y, m-1, n-1)\n",
        "    else:\n",
        "        return max(lcs(X, Y, m, n-1), lcs(X, Y, m-1, n))\n",
        "if __name__ == '__main__':\n",
        "    S1 = \"AGGTAB\"\n",
        "    S2 = \"GXTXAYB\"\n",
        "    print(\"Length of LCS is\", lcs(S1, S2, len(S1), len(S2)))\n",
        "# Length of LCS is 4"
      ]
    }
  ]
}