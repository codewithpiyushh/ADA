{
  "nbformat": 4,
  "nbformat_minor": 0,
  "metadata": {
    "colab": {
      "provenance": []
    },
    "kernelspec": {
      "name": "python3",
      "display_name": "Python 3"
    },
    "language_info": {
      "name": "python"
    }
  },
  "cells": [
    {
      "cell_type": "code",
      "execution_count": 5,
      "metadata": {
        "colab": {
          "base_uri": "https://localhost:8080/"
        },
        "id": "wDz-joYee2zN",
        "outputId": "84f86ccd-2edf-4b40-be5b-db41e247bc4b"
      },
      "outputs": [
        {
          "output_type": "stream",
          "name": "stdout",
          "text": [
            "Strongly Connected Components:\n",
            "['B', 'C', 'A']\n",
            "['D']\n",
            "['G', 'F', 'E']\n",
            "['H']\n",
            "['I']\n"
          ]
        }
      ],
      "source": [
        "from collections import defaultdict\n",
        "\n",
        "def dfs(graph, node, visited, stack):\n",
        "    visited.add(node)\n",
        "    for neighbor in graph[node]:\n",
        "        if neighbor not in visited:\n",
        "            dfs(graph, neighbor, visited, stack)\n",
        "    stack.append(node)\n",
        "\n",
        "def transpose_graph(graph):\n",
        "    transposed = defaultdict(list)\n",
        "    for node in graph:\n",
        "        for neighbor in graph[node]:\n",
        "            transposed[neighbor].append(node)\n",
        "    return transposed\n",
        "\n",
        "def find_strongly_connected_components(graph):\n",
        "    visited = set()\n",
        "    stack = []\n",
        "    for node in graph:\n",
        "        if node not in visited:\n",
        "            dfs(graph, node, visited, stack)\n",
        "    transposed_graph = transpose_graph(graph)\n",
        "    visited.clear()\n",
        "    components = []\n",
        "    while stack:\n",
        "        node = stack.pop()\n",
        "        if node not in visited:\n",
        "            component = []\n",
        "            dfs(transposed_graph, node, visited, component)\n",
        "            components.append(component)\n",
        "    return components\n",
        "graph = {\n",
        "    'A': ['B'],\n",
        "    'B': ['C', 'D'],\n",
        "    'C': ['A', 'E'],\n",
        "    'D': ['F'],\n",
        "    'E': ['G'],\n",
        "    'F': ['E', 'H'],\n",
        "    'G': ['F'],\n",
        "    'H': ['I'],\n",
        "    'I': []\n",
        "}\n",
        "print(\"Strongly Connected Components:\")\n",
        "components = find_strongly_connected_components(graph)\n",
        "for component in components:\n",
        "    print(component)\n"
      ]
    }
  ]
}